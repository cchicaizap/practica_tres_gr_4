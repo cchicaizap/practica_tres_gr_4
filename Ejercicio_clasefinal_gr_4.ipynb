{
 "cells": [
  {
   "cell_type": "markdown",
   "metadata": {},
   "source": [
    "# EJERCICIO CLASE FINAL GRUPO 4\n",
    "\n",
    "## INTEGRANTES:\n",
    "- Carlos Chicaiza\n",
    "- Emilio Mayorga\n",
    "- Jessica Llumiguano\n",
    "- Juan Vizuete\n"
   ]
  },
  {
   "cell_type": "markdown",
   "metadata": {},
   "source": [
    "## Preprocesamiento"
   ]
  },
  {
   "cell_type": "code",
   "execution_count": 2,
   "metadata": {},
   "outputs": [
    {
     "name": "stdout",
     "output_type": "stream",
     "text": [
      "Requirement already satisfied: psycopg2 in /opt/conda/lib/python3.12/site-packages (2.9.9)\n",
      "Note: you may need to restart the kernel to use updated packages.\n"
     ]
    }
   ],
   "source": [
    "%pip install psycopg2"
   ]
  },
  {
   "cell_type": "code",
   "execution_count": 3,
   "metadata": {},
   "outputs": [],
   "source": [
    "import pandas as pd\n",
    "import numpy as np\n",
    "import matplotlib.pyplot as plt\n",
    "import seaborn as sns\n",
    "# base de datos\n",
    "import psycopg2"
   ]
  },
  {
   "cell_type": "markdown",
   "metadata": {},
   "source": [
    "### Lectura de los datos"
   ]
  },
  {
   "cell_type": "code",
   "execution_count": 4,
   "metadata": {},
   "outputs": [
    {
     "name": "stdout",
     "output_type": "stream",
     "text": [
      "session_id,network_packet_size,protocol_type,login_attempts,session_duration,encryption_used,ip_reputation_score,failed_logins,browser_type,unusual_time_access,attack_detected\n",
      "\n"
     ]
    }
   ],
   "source": [
    "with open('./data/cybersecurity_intrusion_data.csv', 'r') as data:\n",
    "    cabecera = data.readline()\n",
    "    print(cabecera)"
   ]
  },
  {
   "cell_type": "code",
   "execution_count": 5,
   "metadata": {},
   "outputs": [
    {
     "name": "stdout",
     "output_type": "stream",
     "text": [
      "(9537, 11)\n"
     ]
    }
   ],
   "source": [
    "df = pd.read_csv('./data/cybersecurity_intrusion_data.csv')\n",
    "print(df.shape)"
   ]
  },
  {
   "cell_type": "code",
   "execution_count": 7,
   "metadata": {},
   "outputs": [
    {
     "name": "stdout",
     "output_type": "stream",
     "text": [
      "session_id              object\n",
      "network_packet_size      int64\n",
      "protocol_type           object\n",
      "login_attempts           int64\n",
      "session_duration       float64\n",
      "encryption_used         object\n",
      "ip_reputation_score    float64\n",
      "failed_logins            int64\n",
      "browser_type            object\n",
      "unusual_time_access      int64\n",
      "attack_detected          int64\n",
      "dtype: object\n"
     ]
    }
   ],
   "source": [
    "print(df.dtypes)"
   ]
  },
  {
   "cell_type": "markdown",
   "metadata": {},
   "source": [
    "### Conexión con el servicio Postgres "
   ]
  },
  {
   "cell_type": "code",
   "execution_count": 6,
   "metadata": {},
   "outputs": [
    {
     "name": "stdout",
     "output_type": "stream",
     "text": [
      "Base creada\n"
     ]
    }
   ],
   "source": [
    "try:\n",
    "    connection = psycopg2.connect(\n",
    "        user=\"postgres\", \n",
    "        password=\"postgres\",\n",
    "        host=\"localhost\",\n",
    "        port=\"5432\"\n",
    "    )\n",
    "    connection.autocommit = True\n",
    "    cursor = connection.cursor()\n",
    "    cursor.execute(\"SELECT datname FROM pg_database WHERE datname='cybersecurity_intrusion';\")\n",
    "    if not cursor.fetchone():\n",
    "        cursor.execute(\"CREATE DATABASE cybersecurity_intrusion;\")\n",
    "        print(\"Base creada\")\n",
    "    else:\n",
    "        print(\"Si existe\")\n",
    "    \n",
    "    cursor.close()  #Cerrada conexion al base\n",
    "    connection.close() #Cerrada conexion al servidor\n",
    "        \n",
    "except Exception as e:\n",
    "        print(f\"Error al crear la base de datos: {e}\")\n",
    "    "
   ]
  },
  {
   "cell_type": "markdown",
   "metadata": {},
   "source": [
    "### Conexion con la base"
   ]
  },
  {
   "cell_type": "code",
   "execution_count": null,
   "metadata": {},
   "outputs": [
    {
     "name": "stdout",
     "output_type": "stream",
     "text": [
      "Tabla creada\n"
     ]
    }
   ],
   "source": [
    "try:\n",
    "    connection = psycopg2.connect(\n",
    "        database = \"cybersecurity_intrusion\",\n",
    "        user=\"postgres\", \n",
    "        password=\"postgres\",\n",
    "        host=\"localhost\",\n",
    "        port=\"5432\"\n",
    "    )\n",
    "    cursor = connection.cursor()\n",
    "    cursor.execute(\"SELECT table_name FROM information_schema.tables WHERE table_schema='public' and table_name='intrusion_log'  ;\")\n",
    "    if not cursor.fetchone():\n",
    "        cursor.execute(\"\"\"\n",
    "            CREATE TABLE intrusion_log(\n",
    "                       id SERIAL PRIMARY KEY,\n",
    "                       session_id varchar(10),\n",
    "                       network_packet_size int,\n",
    "                       protocol_type varchar(5),\n",
    "                       login_attempts int,\n",
    "                       session_duration double precision,\n",
    "                       encryption_used varchar(5),\n",
    "                       ip_reputation_score double precision,\n",
    "                       failed_logins int,\n",
    "                       browser_type varchar(10),\n",
    "                       unusual_time_access int,\n",
    "                       attack_detected int\n",
    "                       );\n",
    "         \"\"\")\n",
    "        print(\"Tabla creada\")\n",
    "    else:\n",
    "        print(\"Si existe\")\n",
    "    \n",
    "    connection.commit()\n",
    "\n",
    "    cursor.close()  #Cerrada conexion al base\n",
    "    connection.close() #Cerrada conexion al servidor\n",
    "        \n",
    "except Exception as e:\n",
    "        print(f\"Error al crear la tabla: {e}\")\n",
    "    "
   ]
  }
 ],
 "metadata": {
  "kernelspec": {
   "display_name": "base",
   "language": "python",
   "name": "python3"
  },
  "language_info": {
   "codemirror_mode": {
    "name": "ipython",
    "version": 3
   },
   "file_extension": ".py",
   "mimetype": "text/x-python",
   "name": "python",
   "nbconvert_exporter": "python",
   "pygments_lexer": "ipython3",
   "version": "3.12.7"
  }
 },
 "nbformat": 4,
 "nbformat_minor": 2
}

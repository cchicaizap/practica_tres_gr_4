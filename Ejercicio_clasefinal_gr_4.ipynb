{
 "cells": [
  {
   "cell_type": "markdown",
   "metadata": {},
   "source": [
    "# EJERCICIO CLASE FINAL GRUPO 4\n",
    "\n",
    "## INTEGRANTES:\n",
    "- Carlos Chicaiza\n",
    "- Emilio Mayorga\n",
    "- Jessica Llumiguano\n",
    "- Juan Vizuete\n",
    "\n",
    "Se obtuvo los datos de un libro de Kaggle: https://www.kaggle.com/datasets/dnkumars/cybersecurity-intrusion-detection-dataset/data\n"
   ]
  },
  {
   "cell_type": "markdown",
   "metadata": {},
   "source": [
    "## Levantamiento de proyecto"
   ]
  },
  {
   "cell_type": "code",
   "execution_count": 16,
   "metadata": {},
   "outputs": [
    {
     "name": "stdout",
     "output_type": "stream",
     "text": [
      "Requirement already satisfied: psycopg2 in /opt/conda/lib/python3.12/site-packages (2.9.9)\n",
      "Note: you may need to restart the kernel to use updated packages.\n"
     ]
    }
   ],
   "source": [
    "%pip install psycopg2"
   ]
  },
  {
   "cell_type": "code",
   "execution_count": 1,
   "metadata": {},
   "outputs": [],
   "source": [
    "import pandas as pd\n",
    "import numpy as np\n",
    "import matplotlib.pyplot as plt\n",
    "import seaborn as sns\n",
    "# base de datos\n",
    "import psycopg2"
   ]
  },
  {
   "cell_type": "markdown",
   "metadata": {},
   "source": [
    "### Lectura de los datos"
   ]
  },
  {
   "cell_type": "code",
   "execution_count": 2,
   "metadata": {},
   "outputs": [
    {
     "name": "stdout",
     "output_type": "stream",
     "text": [
      "session_id,network_packet_size,protocol_type,login_attempts,session_duration,encryption_used,ip_reputation_score,failed_logins,browser_type,unusual_time_access,attack_detected\n",
      "\n"
     ]
    }
   ],
   "source": [
    "with open('./data/cybersecurity_intrusion_data.csv', 'r') as data:\n",
    "    cabecera = data.readline()\n",
    "    print(cabecera)"
   ]
  },
  {
   "cell_type": "code",
   "execution_count": 3,
   "metadata": {},
   "outputs": [
    {
     "name": "stdout",
     "output_type": "stream",
     "text": [
      "(9537, 11)\n"
     ]
    }
   ],
   "source": [
    "df = pd.read_csv('./data/cybersecurity_intrusion_data.csv')\n",
    "print(df.shape)"
   ]
  },
  {
   "cell_type": "code",
   "execution_count": 4,
   "metadata": {},
   "outputs": [
    {
     "name": "stdout",
     "output_type": "stream",
     "text": [
      "session_id              object\n",
      "network_packet_size      int64\n",
      "protocol_type           object\n",
      "login_attempts           int64\n",
      "session_duration       float64\n",
      "encryption_used         object\n",
      "ip_reputation_score    float64\n",
      "failed_logins            int64\n",
      "browser_type            object\n",
      "unusual_time_access      int64\n",
      "attack_detected          int64\n",
      "dtype: object\n"
     ]
    }
   ],
   "source": [
    "print(df.dtypes)"
   ]
  },
  {
   "cell_type": "markdown",
   "metadata": {},
   "source": [
    "### Conexión con el servicio Postgres "
   ]
  },
  {
   "cell_type": "code",
   "execution_count": 5,
   "metadata": {},
   "outputs": [
    {
     "name": "stdout",
     "output_type": "stream",
     "text": [
      "Base creada\n"
     ]
    }
   ],
   "source": [
    "try:\n",
    "    connection = psycopg2.connect(\n",
    "        user=\"postgres\", \n",
    "        password=\"postgres\",\n",
    "        host=\"localhost\",\n",
    "        port=\"5432\"\n",
    "    )\n",
    "    connection.autocommit = True\n",
    "    cursor = connection.cursor()\n",
    "    cursor.execute(\"SELECT datname FROM pg_database WHERE datname='cybersecurity_intrusion';\")\n",
    "    if not cursor.fetchone():\n",
    "        cursor.execute(\"CREATE DATABASE cybersecurity_intrusion;\")\n",
    "        print(\"Base creada\")\n",
    "    else:\n",
    "        print(\"Si existe\")\n",
    "    \n",
    "    cursor.close()  #Cerrada conexion al base\n",
    "    connection.close() #Cerrada conexion al servidor\n",
    "        \n",
    "except Exception as e:\n",
    "        print(f\"Error al crear la base de datos: {e}\")\n",
    "    "
   ]
  },
  {
   "cell_type": "markdown",
   "metadata": {},
   "source": [
    "### Conexion con la base"
   ]
  },
  {
   "cell_type": "code",
   "execution_count": 6,
   "metadata": {},
   "outputs": [
    {
     "name": "stdout",
     "output_type": "stream",
     "text": [
      "Tabla creada\n"
     ]
    }
   ],
   "source": [
    "try:\n",
    "    connection = psycopg2.connect(\n",
    "        database = \"cybersecurity_intrusion\",\n",
    "        user=\"postgres\", \n",
    "        password=\"postgres\",\n",
    "        host=\"localhost\",\n",
    "        port=\"5432\"\n",
    "    )\n",
    "    cursor = connection.cursor()\n",
    "    cursor.execute(\"SELECT table_name FROM information_schema.tables WHERE table_schema='public' and table_name='intrusion_log'  ;\")\n",
    "    if not cursor.fetchone():\n",
    "        cursor.execute(\"\"\"\n",
    "            CREATE TABLE intrusion_log(\n",
    "                       id SERIAL PRIMARY KEY,\n",
    "                       session_id varchar(10),\n",
    "                       network_packet_size int,\n",
    "                       protocol_type varchar(5),\n",
    "                       login_attempts int,\n",
    "                       session_duration double precision,\n",
    "                       encryption_used varchar(5),\n",
    "                       ip_reputation_score double precision,\n",
    "                       failed_logins int,\n",
    "                       browser_type varchar(10),\n",
    "                       unusual_time_access int,\n",
    "                       attack_detected int\n",
    "                       );\n",
    "         \"\"\")\n",
    "        print(\"Tabla creada\")\n",
    "    else:\n",
    "        print(\"Si existe\")\n",
    "    \n",
    "    connection.commit()\n",
    "\n",
    "    cursor.close()  #Cerrada conexion al base\n",
    "    connection.close() #Cerrada conexion al servidor\n",
    "        \n",
    "except Exception as e:\n",
    "        print(f\"Error al crear la tabla: {e}\")\n",
    "    "
   ]
  },
  {
   "cell_type": "markdown",
   "metadata": {},
   "source": [
    "## Preprocesamiento"
   ]
  },
  {
   "cell_type": "code",
   "execution_count": 7,
   "metadata": {},
   "outputs": [
    {
     "name": "stdout",
     "output_type": "stream",
     "text": [
      "session_id                0\n",
      "network_packet_size       0\n",
      "protocol_type             0\n",
      "login_attempts            0\n",
      "session_duration          0\n",
      "encryption_used        1966\n",
      "ip_reputation_score       0\n",
      "failed_logins             0\n",
      "browser_type              0\n",
      "unusual_time_access       0\n",
      "attack_detected           0\n",
      "dtype: int64\n"
     ]
    }
   ],
   "source": [
    "print(df.isnull().sum())"
   ]
  },
  {
   "cell_type": "markdown",
   "metadata": {},
   "source": [
    "Se convierte los campos de texto en minuscula"
   ]
  },
  {
   "cell_type": "code",
   "execution_count": 8,
   "metadata": {},
   "outputs": [
    {
     "name": "stdout",
     "output_type": "stream",
     "text": [
      "  session_id  network_packet_size protocol_type  login_attempts  \\\n",
      "0  sid_00001                  599           tcp               4   \n",
      "1  sid_00002                  472           tcp               3   \n",
      "2  sid_00003                  629           tcp               3   \n",
      "3  sid_00004                  804           udp               4   \n",
      "4  sid_00005                  453           tcp               5   \n",
      "\n",
      "   session_duration encryption_used  ip_reputation_score  failed_logins  \\\n",
      "0        492.983263             des             0.606818              1   \n",
      "1       1557.996461             des             0.301569              0   \n",
      "2         75.044262             des             0.739164              2   \n",
      "3        601.248835             des             0.123267              0   \n",
      "4        532.540888             aes             0.054874              1   \n",
      "\n",
      "  browser_type  unusual_time_access  attack_detected  \n",
      "0         edge                    0                1  \n",
      "1      firefox                    0                0  \n",
      "2       chrome                    0                1  \n",
      "3      unknown                    0                1  \n",
      "4      firefox                    0                0  \n"
     ]
    }
   ],
   "source": [
    "df_normalized = df.apply(lambda x: x.str.lower() if x.dtype == \"object\" else x)\n",
    "print(df_normalized[:5])"
   ]
  },
  {
   "cell_type": "markdown",
   "metadata": {},
   "source": [
    "Cambiar las celdas \"Unknown\" y \"None\" por \"NaN\""
   ]
  },
  {
   "cell_type": "code",
   "execution_count": 9,
   "metadata": {},
   "outputs": [
    {
     "name": "stdout",
     "output_type": "stream",
     "text": [
      "   session_id  network_packet_size protocol_type  login_attempts  \\\n",
      "10  sid_00011                  407           udp               6   \n",
      "11  sid_00012                  406           udp               9   \n",
      "12  sid_00013                  548           tcp               2   \n",
      "13  sid_00014                  117           tcp               4   \n",
      "14  sid_00015                  155           tcp               3   \n",
      "15  sid_00016                  387          icmp               6   \n",
      "16  sid_00017                  297           tcp               8   \n",
      "17  sid_00018                  562           udp               1   \n",
      "18  sid_00019                  318           tcp               5   \n",
      "19  sid_00020                  217          icmp               2   \n",
      "\n",
      "    session_duration encryption_used  ip_reputation_score  failed_logins  \\\n",
      "10        580.721925             des             0.122894              3   \n",
      "11        191.052837             des             0.339711              1   \n",
      "12        186.147638             NaN             0.406899              2   \n",
      "13        833.488965             des             0.473292              2   \n",
      "14         77.849952             NaN             0.352476              3   \n",
      "15        292.136196             des             0.254912              3   \n",
      "16       1421.414372             aes             0.345368              3   \n",
      "17         87.641002             NaN             0.136729              2   \n",
      "18        504.988670             aes             0.394231              1   \n",
      "19        883.617568             des             0.310113              0   \n",
      "\n",
      "   browser_type  unusual_time_access  attack_detected  \n",
      "10      firefox                    0                1  \n",
      "11         edge                    0                1  \n",
      "12       safari                    1                0  \n",
      "13          NaN                    0                1  \n",
      "14       chrome                    0                1  \n",
      "15       chrome                    0                1  \n",
      "16      firefox                    0                1  \n",
      "17      firefox                    0                0  \n",
      "18          NaN                    0                1  \n",
      "19       chrome                    0                0  \n"
     ]
    }
   ],
   "source": [
    "df_normalized.replace(['unknown', None], np.nan, inplace=True)\n",
    "print(df_normalized[10:20])"
   ]
  },
  {
   "cell_type": "markdown",
   "metadata": {},
   "source": [
    "Se van a eliminar las filas con valores nulos"
   ]
  },
  {
   "cell_type": "code",
   "execution_count": 10,
   "metadata": {},
   "outputs": [],
   "source": [
    "df_normalized.dropna(inplace=True)"
   ]
  },
  {
   "cell_type": "code",
   "execution_count": 11,
   "metadata": {},
   "outputs": [
    {
     "name": "stdout",
     "output_type": "stream",
     "text": [
      "   session_id  network_packet_size protocol_type  login_attempts  \\\n",
      "0   sid_00001                  599           tcp               4   \n",
      "1   sid_00002                  472           tcp               3   \n",
      "2   sid_00003                  629           tcp               3   \n",
      "4   sid_00005                  453           tcp               5   \n",
      "5   sid_00006                  453           udp               5   \n",
      "6   sid_00007                  815          icmp               4   \n",
      "7   sid_00008                  653           tcp               3   \n",
      "10  sid_00011                  407           udp               6   \n",
      "11  sid_00012                  406           udp               9   \n",
      "15  sid_00016                  387          icmp               6   \n",
      "\n",
      "    session_duration encryption_used  ip_reputation_score  failed_logins  \\\n",
      "0         492.983263             des             0.606818              1   \n",
      "1        1557.996461             des             0.301569              0   \n",
      "2          75.044262             des             0.739164              2   \n",
      "4         532.540888             aes             0.054874              1   \n",
      "5         380.471550             aes             0.422486              2   \n",
      "6         728.107165             aes             0.413772              1   \n",
      "7          12.599906             des             0.097719              3   \n",
      "10        580.721925             des             0.122894              3   \n",
      "11        191.052837             des             0.339711              1   \n",
      "15        292.136196             des             0.254912              3   \n",
      "\n",
      "   browser_type  unusual_time_access  attack_detected  \n",
      "0          edge                    0                1  \n",
      "1       firefox                    0                0  \n",
      "2        chrome                    0                1  \n",
      "4       firefox                    0                0  \n",
      "5        chrome                    1                0  \n",
      "6        chrome                    0                1  \n",
      "7        chrome                    1                1  \n",
      "10      firefox                    0                1  \n",
      "11         edge                    0                1  \n",
      "15       chrome                    0                1  \n"
     ]
    }
   ],
   "source": [
    "print(df_normalized[0:10])"
   ]
  },
  {
   "cell_type": "markdown",
   "metadata": {},
   "source": [
    "Se ha limpiado la tabla."
   ]
  },
  {
   "cell_type": "markdown",
   "metadata": {},
   "source": [
    "### Iniciar guardado de datos"
   ]
  },
  {
   "cell_type": "code",
   "execution_count": 12,
   "metadata": {},
   "outputs": [
    {
     "name": "stdout",
     "output_type": "stream",
     "text": [
      "[('sid_00001', 599, 'tcp', 4, 492.9832634426563, 'des', 0.606818080396889, 1, 'edge', 0, 1), ('sid_00002', 472, 'tcp', 3, 1557.9964611204384, 'des', 0.3015689675960893, 0, 'firefox', 0, 0), ('sid_00003', 629, 'tcp', 3, 75.04426166420741, 'des', 0.7391643279163831, 2, 'chrome', 0, 1), ('sid_00005', 453, 'tcp', 5, 532.5408884201419, 'aes', 0.0548738567431703, 1, 'firefox', 0, 0), ('sid_00006', 453, 'udp', 5, 380.4715502453134, 'aes', 0.4224858607066699, 2, 'chrome', 1, 0), ('sid_00007', 815, 'icmp', 4, 728.1071646972356, 'aes', 0.4137719285892984, 1, 'chrome', 0, 1), ('sid_00008', 653, 'tcp', 3, 12.5999060098958, 'des', 0.0977193658576949, 3, 'chrome', 1, 1), ('sid_00011', 407, 'udp', 6, 580.7219253670751, 'des', 0.1228937389064628, 3, 'firefox', 0, 1), ('sid_00012', 406, 'udp', 9, 191.0528369326706, 'des', 0.3397112713433893, 1, 'edge', 0, 1), ('sid_00016', 387, 'icmp', 6, 292.1361960073892, 'des', 0.2549124511362793, 3, 'chrome', 0, 1)]\n",
      "Se han agregado los logs\n"
     ]
    }
   ],
   "source": [
    "try:\n",
    "    connection = psycopg2.connect(\n",
    "        database = \"cybersecurity_intrusion\",\n",
    "        user=\"postgres\", \n",
    "        password=\"postgres\",\n",
    "        host=\"localhost\",\n",
    "        port=\"5432\"\n",
    "    )\n",
    "    cursor = connection.cursor()\n",
    "    \n",
    "    logs = df_normalized[0:10]\n",
    "    data_to_insert = [\n",
    "    tuple(int(x) if isinstance(x, np.int64) else float(x) if isinstance(x, np.float64) else x for x in row)\n",
    "    for row in logs[['session_id','network_packet_size','protocol_type','login_attempts','session_duration','encryption_used','ip_reputation_score','failed_logins','browser_type','unusual_time_access','attack_detected']].to_records(index=False)]   \n",
    "    print(data_to_insert)\n",
    "    cursor.executemany(\"\"\"\n",
    "        INSERT INTO intrusion_log (session_id,network_packet_size,protocol_type,login_attempts,session_duration,encryption_used,ip_reputation_score,failed_logins,browser_type,unusual_time_access,attack_detected)\n",
    "        VALUES (%s, %s, %s, %s, %s, %s, %s, %s, %s, %s, %s);\n",
    "        \"\"\",data_to_insert)\n",
    "\n",
    "    connection.commit()\n",
    "    print(\"Se han agregado los logs\")\n",
    "    cursor.close()  #Cerrada conexion al base\n",
    "    connection.close() #Cerrada conexion al servidor\n",
    "        \n",
    "except Exception as e:\n",
    "        print(f\"Error al insertar los datos: {e}\")\n",
    "    "
   ]
  },
  {
   "cell_type": "markdown",
   "metadata": {},
   "source": [
    "Se han añadido los logs.\n",
    "Se procede a imprimir la tabla"
   ]
  },
  {
   "cell_type": "code",
   "execution_count": 13,
   "metadata": {},
   "outputs": [
    {
     "name": "stdout",
     "output_type": "stream",
     "text": [
      "(1, 'sid_00001', 599, 'tcp', 4, 492.9832634426563, 'des', 0.606818080396889, 1, 'edge', 0, 1)\n",
      "(2, 'sid_00002', 472, 'tcp', 3, 1557.9964611204384, 'des', 0.3015689675960893, 0, 'firefox', 0, 0)\n",
      "(3, 'sid_00003', 629, 'tcp', 3, 75.04426166420741, 'des', 0.7391643279163831, 2, 'chrome', 0, 1)\n",
      "(4, 'sid_00005', 453, 'tcp', 5, 532.5408884201419, 'aes', 0.0548738567431703, 1, 'firefox', 0, 0)\n",
      "(5, 'sid_00006', 453, 'udp', 5, 380.4715502453134, 'aes', 0.4224858607066699, 2, 'chrome', 1, 0)\n",
      "(6, 'sid_00007', 815, 'icmp', 4, 728.1071646972356, 'aes', 0.4137719285892984, 1, 'chrome', 0, 1)\n",
      "(7, 'sid_00008', 653, 'tcp', 3, 12.5999060098958, 'des', 0.0977193658576949, 3, 'chrome', 1, 1)\n",
      "(8, 'sid_00011', 407, 'udp', 6, 580.7219253670751, 'des', 0.1228937389064628, 3, 'firefox', 0, 1)\n",
      "(9, 'sid_00012', 406, 'udp', 9, 191.0528369326706, 'des', 0.3397112713433893, 1, 'edge', 0, 1)\n",
      "(10, 'sid_00016', 387, 'icmp', 6, 292.1361960073892, 'des', 0.2549124511362793, 3, 'chrome', 0, 1)\n",
      "Se ha realizado la impresion\n"
     ]
    }
   ],
   "source": [
    "try:\n",
    "    connection = psycopg2.connect(\n",
    "        database = \"cybersecurity_intrusion\",\n",
    "        user=\"postgres\", \n",
    "        password=\"postgres\",\n",
    "        host=\"localhost\",\n",
    "        port=\"5432\"\n",
    "    )\n",
    "    cursor = connection.cursor()\n",
    "    \n",
    "    cursor.execute(\"SELECT * FROM intrusion_log LIMIT 10;\")\n",
    "    result = cursor.fetchall()\n",
    "    \n",
    "    for i in result:\n",
    "        print(i)\n",
    "\n",
    "    print(\"Se ha realizado la impresion\")\n",
    "    cursor.close()  #Cerrada conexion al base\n",
    "    connection.close() #Cerrada conexion al servidor\n",
    "        \n",
    "except Exception as e:\n",
    "        print(f\"Error al insertar los datos: {e}\")\n",
    "    "
   ]
  },
  {
   "cell_type": "markdown",
   "metadata": {},
   "source": [
    "## Gráficos"
   ]
  },
  {
   "cell_type": "markdown",
   "metadata": {},
   "source": [
    "### Ataques recibidos por navegador"
   ]
  },
  {
   "cell_type": "code",
   "execution_count": 14,
   "metadata": {},
   "outputs": [
    {
     "data": {
      "image/png": "[encoded data removed]",
      "text/plain": [
       "<Figure size 400x400 with 1 Axes>"
      ]
     },
     "metadata": {},
     "output_type": "display_data"
    }
   ],
   "source": [
    "# Filtrar solo los ataques detectados (attack_detected == 1)\n",
    "df_attacks = df_normalized[df_normalized['attack_detected'] == 1]\n",
    "\n",
    "# Contar los ataques por tipo de navegador\n",
    "attack_counts = df_attacks['browser_type'].value_counts()\n",
    "\n",
    "# Crear el gráfico de pastel\n",
    "plt.figure(figsize=(4, 4))\n",
    "plt.pie(attack_counts, labels=attack_counts.index, autopct='%1.1f%%', startangle=140, \n",
    "        colors=['#ff9999','#ffcc99', '#66b3ff','#99ff99'])\n",
    "plt.title('Distribución de Ataques por Navegador')\n",
    "plt.axis('equal')  # Para hacer el gráfico circular\n",
    "\n",
    "# Mostrar el gráfico\n",
    "plt.show()"
   ]
  },
  {
   "cell_type": "markdown",
   "metadata": {},
   "source": [
    "### Gráfica de barras protocol_type y attack_detected"
   ]
  },
  {
   "cell_type": "code",
   "execution_count": 15,
   "metadata": {},
   "outputs": [
    {
     "data": {
      "image/png": "[encoded data removed]",
      "text/plain": [
       "<Figure size 1000x600 with 1 Axes>"
      ]
     },
     "metadata": {},
     "output_type": "display_data"
    }
   ],
   "source": [
    "# Agrupar los datos por tipo de protocolo y ataque detectado\n",
    "grouped_data = df_normalized.groupby(['protocol_type', 'attack_detected']).size().reset_index(name='count')\n",
    "\n",
    "# Crear el gráfico de barras\n",
    "plt.figure(figsize=(10, 6))\n",
    "sns.barplot(data=grouped_data, x='protocol_type', y='count', hue='attack_detected', palette='viridis')\n",
    "\n",
    "# Configurar el gráfico\n",
    "plt.title('Distribución de Protocolos y Ataques Detectados')\n",
    "plt.xlabel('Tipo de Protocolo')\n",
    "plt.ylabel('Cantidad')\n",
    "plt.xticks(rotation=45, ha='right')\n",
    "plt.legend(title='Ataque Detectado', labels=['No', 'Sí'])\n",
    "plt.tight_layout()\n",
    "plt.show()"
   ]
  }
 ],
 "metadata": {
  "kernelspec": {
   "display_name": "base",
   "language": "python",
   "name": "python3"
  },
  "language_info": {
   "codemirror_mode": {
    "name": "ipython",
    "version": 3
   },
   "file_extension": ".py",
   "mimetype": "text/x-python",
   "name": "python",
   "nbconvert_exporter": "python",
   "pygments_lexer": "ipython3",
   "version": "3.12.7"
  }
 },
 "nbformat": 4,
 "nbformat_minor": 2
}

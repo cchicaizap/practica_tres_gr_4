{
 "cells": [
  {
   "cell_type": "markdown",
   "metadata": {},
   "source": [
    "# EJERCICIO CLASE FINAL GRUPO 4\n",
    "\n",
    "## INTEGRANTES:\n",
    "- Carlos Chicaiza\n",
    "- Emilio Mayorga\n",
    "- Jessica Llumiguano\n",
    "- Juan Vizuete\n"
   ]
  },
  {
   "cell_type": "markdown",
   "metadata": {},
   "source": [
    "## Preprocesamiento"
   ]
  },
  {
   "cell_type": "code",
   "execution_count": 1,
   "metadata": {},
   "outputs": [
    {
     "name": "stdout",
     "output_type": "stream",
     "text": [
      "Collecting psycopg2\n",
      "  Downloading psycopg2-2.9.10.tar.gz (385 kB)\n",
      "  Installing build dependencies ... \u001b[?25ldone\n",
      "\u001b[?25h  Getting requirements to build wheel ... \u001b[?25ldone\n",
      "\u001b[?25h  Preparing metadata (pyproject.toml) ... \u001b[?25ldone\n",
      "\u001b[?25hBuilding wheels for collected packages: psycopg2\n",
      "  Building wheel for psycopg2 (pyproject.toml) ... \u001b[?25ldone\n",
      "\u001b[?25h  Created wheel for psycopg2: filename=psycopg2-2.9.10-cp312-cp312-linux_x86_64.whl size=635593 sha256=6e7b1912c8cc8e5dedc3fa05acdd89959fdeffaa69f983ddd99deaec5075dd03\n",
      "  Stored in directory: /home/codespace/.cache/pip/wheels/ac/bb/ce/afa589c50b6004d3a06fc691e71bd09c9bd5f01e5921e5329b\n",
      "Successfully built psycopg2\n",
      "Installing collected packages: psycopg2\n",
      "Successfully installed psycopg2-2.9.10\n",
      "Note: you may need to restart the kernel to use updated packages.\n"
     ]
    }
   ],
   "source": [
    "%pip install psycopg2"
   ]
  },
  {
   "cell_type": "code",
   "execution_count": 2,
   "metadata": {},
   "outputs": [],
   "source": [
    "import pandas as pd\n",
    "import numpy as np\n",
    "import matplotlib.pyplot as plt\n",
    "import seaborn as sns\n",
    "# base de datos\n",
    "import psycopg2"
   ]
  },
  {
   "cell_type": "markdown",
   "metadata": {},
   "source": [
    "### Lectura de los datos"
   ]
  },
  {
   "cell_type": "code",
   "execution_count": null,
   "metadata": {},
   "outputs": [
    {
     "name": "stdout",
     "output_type": "stream",
     "text": [
      "session_id,network_packet_size,protocol_type,login_attempts,session_duration,encryption_used,ip_reputation_score,failed_logins,browser_type,unusual_time_access,attack_detected\n",
      "\n"
     ]
    }
   ],
   "source": [
    "with open('./data/cybersecurity_intrusion_data.csv', 'r') as data:\n",
    "    cabecera = data.readline()\n",
    "    print(cabecera)"
   ]
  },
  {
   "cell_type": "code",
   "execution_count": 4,
   "metadata": {},
   "outputs": [
    {
     "name": "stdout",
     "output_type": "stream",
     "text": [
      "(9537, 11)\n"
     ]
    }
   ],
   "source": [
    "df = pd.read_csv('./data/cybersecurity_intrusion_data.csv')\n",
    "print(df.shape)"
   ]
  },
  {
   "cell_type": "markdown",
   "metadata": {},
   "source": [
    "### Conexión a la base de datos"
   ]
  },
  {
   "cell_type": "code",
   "execution_count": 6,
   "metadata": {},
   "outputs": [
    {
     "name": "stdout",
     "output_type": "stream",
     "text": [
      "Error al crear la base de datos: could not connect to server: Connection refused\n",
      "\tIs the server running on host \"localhost\" (::1) and accepting\n",
      "\tTCP/IP connections on port 5432?\n",
      "could not connect to server: Connection refused\n",
      "\tIs the server running on host \"localhost\" (127.0.0.1) and accepting\n",
      "\tTCP/IP connections on port 5432?\n",
      "\n"
     ]
    }
   ],
   "source": [
    "try:\n",
    "    connection = psycopg2.connect(\n",
    "        user=\"postgres\", \n",
    "        password=\"postgres\",\n",
    "        host=\"localhost\",\n",
    "        port=\"5432\"\n",
    "    )\n",
    "    connection.autocommit = True\n",
    "    cursor = connection.cursor()\n",
    "    cursor.execute(\"SELECT datname FROM pg_database WHERE datname='cybersecurity_intrusion';\")\n",
    "    if not cursor.fetchone():\n",
    "        cursor.execute(\"CREATE DATABASE cybersecurity_intrusion;\")\n",
    "        print(\"Base creada\")\n",
    "    else:\n",
    "        print(\"Si existe\")\n",
    "    \n",
    "    cursor.close()  #Cerrada conexion al base\n",
    "    connection.close() #Cerrada conexion al servidor\n",
    "        \n",
    "except Exception as e:\n",
    "        print(f\"Error al crear la base de datos: {e}\")\n",
    "    "
   ]
  }
 ],
 "metadata": {
  "kernelspec": {
   "display_name": "Python 3",
   "language": "python",
   "name": "python3"
  },
  "language_info": {
   "codemirror_mode": {
    "name": "ipython",
    "version": 3
   },
   "file_extension": ".py",
   "mimetype": "text/x-python",
   "name": "python",
   "nbconvert_exporter": "python",
   "pygments_lexer": "ipython3",
   "version": "3.12.1"
  }
 },
 "nbformat": 4,
 "nbformat_minor": 2
}
